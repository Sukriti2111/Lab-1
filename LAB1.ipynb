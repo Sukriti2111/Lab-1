{
  "nbformat": 4,
  "nbformat_minor": 0,
  "metadata": {
    "colab": {
      "provenance": []
    },
    "kernelspec": {
      "name": "python3",
      "display_name": "Python 3"
    },
    "language_info": {
      "name": "python"
    }
  },
  "cells": [
    {
      "cell_type": "code",
      "source": [
        "sum_of_dataset =sum([5, 12, 7, 3, 8, 9, 11, 2, 6, 4])\n",
        "print(sum_of_dataset)\n"
      ],
      "metadata": {
        "colab": {
          "base_uri": "https://localhost:8080/"
        },
        "id": "1l4SCIJGcFCA",
        "outputId": "2002e79f-8d22-4236-9f9f-c074d9581667"
      },
      "execution_count": null,
      "outputs": [
        {
          "output_type": "stream",
          "name": "stdout",
          "text": [
            "67\n"
          ]
        }
      ]
    },
    {
      "cell_type": "code",
      "source": [
        "max_value = max([5, 12, 7, 3, 8, 9, 11, 2, 6, 4])\n",
        "print(max_value)"
      ],
      "metadata": {
        "colab": {
          "base_uri": "https://localhost:8080/"
        },
        "id": "RtaWw1KFcXih",
        "outputId": "57cbed2d-6fb8-427d-9970-d24fde265161"
      },
      "execution_count": null,
      "outputs": [
        {
          "output_type": "stream",
          "name": "stdout",
          "text": [
            "12\n"
          ]
        }
      ]
    },
    {
      "cell_type": "code",
      "source": [
        "even_numbers = len([x for x in [5, 12, 7, 3, 8, 9, 11, 2, 6, 4]\n",
        "                   if x % 2 == 0])\n",
        "print(even_numbers)"
      ],
      "metadata": {
        "colab": {
          "base_uri": "https://localhost:8080/"
        },
        "id": "KpPP_HuucfSj",
        "outputId": "4e4a5a50-77ac-48bb-b626-def55ad9fa33"
      },
      "execution_count": null,
      "outputs": [
        {
          "output_type": "stream",
          "name": "stdout",
          "text": [
            "5\n"
          ]
        }
      ]
    },
    {
      "cell_type": "code",
      "source": [
        "exists = 8  in [5, 12, 7, 3, 8, 9, 11, 2, 6, 4]\n",
        "print(exists)"
      ],
      "metadata": {
        "colab": {
          "base_uri": "https://localhost:8080/"
        },
        "id": "Vxd5ecc2c8K2",
        "outputId": "71da9fa7-4eac-42be-f600-edf9537d0a5d"
      },
      "execution_count": null,
      "outputs": [
        {
          "output_type": "stream",
          "name": "stdout",
          "text": [
            "True\n"
          ]
        }
      ]
    }
  ]
}